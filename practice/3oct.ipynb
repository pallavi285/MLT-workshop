{
 "cells": [
  {
   "cell_type": "markdown",
   "id": "a633a741",
   "metadata": {},
   "source": [
    "# Question solving "
   ]
  },
  {
   "cell_type": "markdown",
   "id": "7ad04705",
   "metadata": {},
   "source": [
    "## 1"
   ]
  },
  {
   "cell_type": "code",
   "execution_count": 77,
   "id": "37034851",
   "metadata": {},
   "outputs": [],
   "source": [
    "import numpy as np\n",
    "import pandas as pd\n",
    "import matplotlib.pyplot as plt"
   ]
  },
  {
   "cell_type": "code",
   "execution_count": 78,
   "id": "4a6c8f9f",
   "metadata": {},
   "outputs": [],
   "source": [
    "# DATA CELL\n",
    "# DO NOT EDIT THIS\n",
    "rng = np.random.default_rng(seed = 1001)\n",
    "d = rng.integers(2, 10)\n",
    "n = rng.integers(40, 50)\n",
    "X = rng.integers(-5, 10, (d, n))"
   ]
  },
  {
   "cell_type": "code",
   "execution_count": 79,
   "id": "12d9cf01",
   "metadata": {},
   "outputs": [
    {
     "data": {
      "text/html": [
       "<div>\n",
       "<style scoped>\n",
       "    .dataframe tbody tr th:only-of-type {\n",
       "        vertical-align: middle;\n",
       "    }\n",
       "\n",
       "    .dataframe tbody tr th {\n",
       "        vertical-align: top;\n",
       "    }\n",
       "\n",
       "    .dataframe thead th {\n",
       "        text-align: right;\n",
       "    }\n",
       "</style>\n",
       "<table border=\"1\" class=\"dataframe\">\n",
       "  <thead>\n",
       "    <tr style=\"text-align: right;\">\n",
       "      <th></th>\n",
       "      <th>0</th>\n",
       "      <th>1</th>\n",
       "      <th>2</th>\n",
       "      <th>3</th>\n",
       "      <th>4</th>\n",
       "      <th>5</th>\n",
       "      <th>6</th>\n",
       "      <th>7</th>\n",
       "      <th>8</th>\n",
       "      <th>9</th>\n",
       "      <th>...</th>\n",
       "      <th>36</th>\n",
       "      <th>37</th>\n",
       "      <th>38</th>\n",
       "      <th>39</th>\n",
       "      <th>40</th>\n",
       "      <th>41</th>\n",
       "      <th>42</th>\n",
       "      <th>43</th>\n",
       "      <th>44</th>\n",
       "      <th>45</th>\n",
       "    </tr>\n",
       "  </thead>\n",
       "  <tbody>\n",
       "    <tr>\n",
       "      <th>0</th>\n",
       "      <td>7</td>\n",
       "      <td>-5</td>\n",
       "      <td>2</td>\n",
       "      <td>-3</td>\n",
       "      <td>6</td>\n",
       "      <td>7</td>\n",
       "      <td>-3</td>\n",
       "      <td>-4</td>\n",
       "      <td>1</td>\n",
       "      <td>-2</td>\n",
       "      <td>...</td>\n",
       "      <td>4</td>\n",
       "      <td>-2</td>\n",
       "      <td>5</td>\n",
       "      <td>-2</td>\n",
       "      <td>5</td>\n",
       "      <td>9</td>\n",
       "      <td>9</td>\n",
       "      <td>6</td>\n",
       "      <td>1</td>\n",
       "      <td>-4</td>\n",
       "    </tr>\n",
       "    <tr>\n",
       "      <th>1</th>\n",
       "      <td>4</td>\n",
       "      <td>8</td>\n",
       "      <td>-4</td>\n",
       "      <td>0</td>\n",
       "      <td>-4</td>\n",
       "      <td>-1</td>\n",
       "      <td>3</td>\n",
       "      <td>-4</td>\n",
       "      <td>-4</td>\n",
       "      <td>0</td>\n",
       "      <td>...</td>\n",
       "      <td>0</td>\n",
       "      <td>-2</td>\n",
       "      <td>9</td>\n",
       "      <td>1</td>\n",
       "      <td>-4</td>\n",
       "      <td>2</td>\n",
       "      <td>7</td>\n",
       "      <td>7</td>\n",
       "      <td>8</td>\n",
       "      <td>0</td>\n",
       "    </tr>\n",
       "    <tr>\n",
       "      <th>2</th>\n",
       "      <td>9</td>\n",
       "      <td>6</td>\n",
       "      <td>0</td>\n",
       "      <td>5</td>\n",
       "      <td>0</td>\n",
       "      <td>1</td>\n",
       "      <td>-2</td>\n",
       "      <td>4</td>\n",
       "      <td>1</td>\n",
       "      <td>-4</td>\n",
       "      <td>...</td>\n",
       "      <td>7</td>\n",
       "      <td>3</td>\n",
       "      <td>-1</td>\n",
       "      <td>2</td>\n",
       "      <td>3</td>\n",
       "      <td>8</td>\n",
       "      <td>7</td>\n",
       "      <td>4</td>\n",
       "      <td>1</td>\n",
       "      <td>7</td>\n",
       "    </tr>\n",
       "    <tr>\n",
       "      <th>3</th>\n",
       "      <td>3</td>\n",
       "      <td>-1</td>\n",
       "      <td>3</td>\n",
       "      <td>3</td>\n",
       "      <td>8</td>\n",
       "      <td>9</td>\n",
       "      <td>-2</td>\n",
       "      <td>5</td>\n",
       "      <td>-1</td>\n",
       "      <td>-3</td>\n",
       "      <td>...</td>\n",
       "      <td>-3</td>\n",
       "      <td>1</td>\n",
       "      <td>-5</td>\n",
       "      <td>7</td>\n",
       "      <td>5</td>\n",
       "      <td>-4</td>\n",
       "      <td>7</td>\n",
       "      <td>6</td>\n",
       "      <td>3</td>\n",
       "      <td>5</td>\n",
       "    </tr>\n",
       "    <tr>\n",
       "      <th>4</th>\n",
       "      <td>6</td>\n",
       "      <td>6</td>\n",
       "      <td>-3</td>\n",
       "      <td>-5</td>\n",
       "      <td>0</td>\n",
       "      <td>-2</td>\n",
       "      <td>4</td>\n",
       "      <td>6</td>\n",
       "      <td>2</td>\n",
       "      <td>-5</td>\n",
       "      <td>...</td>\n",
       "      <td>4</td>\n",
       "      <td>0</td>\n",
       "      <td>-1</td>\n",
       "      <td>0</td>\n",
       "      <td>8</td>\n",
       "      <td>-4</td>\n",
       "      <td>4</td>\n",
       "      <td>-4</td>\n",
       "      <td>9</td>\n",
       "      <td>0</td>\n",
       "    </tr>\n",
       "    <tr>\n",
       "      <th>5</th>\n",
       "      <td>5</td>\n",
       "      <td>2</td>\n",
       "      <td>-5</td>\n",
       "      <td>0</td>\n",
       "      <td>7</td>\n",
       "      <td>-4</td>\n",
       "      <td>7</td>\n",
       "      <td>4</td>\n",
       "      <td>7</td>\n",
       "      <td>1</td>\n",
       "      <td>...</td>\n",
       "      <td>-5</td>\n",
       "      <td>3</td>\n",
       "      <td>9</td>\n",
       "      <td>9</td>\n",
       "      <td>3</td>\n",
       "      <td>0</td>\n",
       "      <td>7</td>\n",
       "      <td>9</td>\n",
       "      <td>7</td>\n",
       "      <td>4</td>\n",
       "    </tr>\n",
       "    <tr>\n",
       "      <th>6</th>\n",
       "      <td>-1</td>\n",
       "      <td>6</td>\n",
       "      <td>1</td>\n",
       "      <td>-2</td>\n",
       "      <td>1</td>\n",
       "      <td>7</td>\n",
       "      <td>6</td>\n",
       "      <td>-5</td>\n",
       "      <td>8</td>\n",
       "      <td>5</td>\n",
       "      <td>...</td>\n",
       "      <td>3</td>\n",
       "      <td>4</td>\n",
       "      <td>4</td>\n",
       "      <td>6</td>\n",
       "      <td>7</td>\n",
       "      <td>8</td>\n",
       "      <td>4</td>\n",
       "      <td>2</td>\n",
       "      <td>3</td>\n",
       "      <td>3</td>\n",
       "    </tr>\n",
       "    <tr>\n",
       "      <th>7</th>\n",
       "      <td>4</td>\n",
       "      <td>5</td>\n",
       "      <td>-4</td>\n",
       "      <td>0</td>\n",
       "      <td>3</td>\n",
       "      <td>-5</td>\n",
       "      <td>3</td>\n",
       "      <td>6</td>\n",
       "      <td>0</td>\n",
       "      <td>-1</td>\n",
       "      <td>...</td>\n",
       "      <td>6</td>\n",
       "      <td>1</td>\n",
       "      <td>-3</td>\n",
       "      <td>4</td>\n",
       "      <td>-4</td>\n",
       "      <td>4</td>\n",
       "      <td>9</td>\n",
       "      <td>-3</td>\n",
       "      <td>9</td>\n",
       "      <td>-3</td>\n",
       "    </tr>\n",
       "    <tr>\n",
       "      <th>8</th>\n",
       "      <td>9</td>\n",
       "      <td>-3</td>\n",
       "      <td>9</td>\n",
       "      <td>0</td>\n",
       "      <td>3</td>\n",
       "      <td>0</td>\n",
       "      <td>2</td>\n",
       "      <td>5</td>\n",
       "      <td>1</td>\n",
       "      <td>-1</td>\n",
       "      <td>...</td>\n",
       "      <td>4</td>\n",
       "      <td>0</td>\n",
       "      <td>-2</td>\n",
       "      <td>-4</td>\n",
       "      <td>-1</td>\n",
       "      <td>3</td>\n",
       "      <td>-2</td>\n",
       "      <td>-3</td>\n",
       "      <td>0</td>\n",
       "      <td>-3</td>\n",
       "    </tr>\n",
       "  </tbody>\n",
       "</table>\n",
       "<p>9 rows × 46 columns</p>\n",
       "</div>"
      ],
      "text/plain": [
       "   0   1   2   3   4   5   6   7   8   9   ...  36  37  38  39  40  41  42  \\\n",
       "0   7  -5   2  -3   6   7  -3  -4   1  -2  ...   4  -2   5  -2   5   9   9   \n",
       "1   4   8  -4   0  -4  -1   3  -4  -4   0  ...   0  -2   9   1  -4   2   7   \n",
       "2   9   6   0   5   0   1  -2   4   1  -4  ...   7   3  -1   2   3   8   7   \n",
       "3   3  -1   3   3   8   9  -2   5  -1  -3  ...  -3   1  -5   7   5  -4   7   \n",
       "4   6   6  -3  -5   0  -2   4   6   2  -5  ...   4   0  -1   0   8  -4   4   \n",
       "5   5   2  -5   0   7  -4   7   4   7   1  ...  -5   3   9   9   3   0   7   \n",
       "6  -1   6   1  -2   1   7   6  -5   8   5  ...   3   4   4   6   7   8   4   \n",
       "7   4   5  -4   0   3  -5   3   6   0  -1  ...   6   1  -3   4  -4   4   9   \n",
       "8   9  -3   9   0   3   0   2   5   1  -1  ...   4   0  -2  -4  -1   3  -2   \n",
       "\n",
       "   43  44  45  \n",
       "0   6   1  -4  \n",
       "1   7   8   0  \n",
       "2   4   1   7  \n",
       "3   6   3   5  \n",
       "4  -4   9   0  \n",
       "5   9   7   4  \n",
       "6   2   3   3  \n",
       "7  -3   9  -3  \n",
       "8  -3   0  -3  \n",
       "\n",
       "[9 rows x 46 columns]"
      ]
     },
     "execution_count": 79,
     "metadata": {},
     "output_type": "execute_result"
    }
   ],
   "source": [
    "df = pd.DataFrame(X)\n",
    "df"
   ]
  },
  {
   "cell_type": "code",
   "execution_count": 80,
   "id": "cb6d10d1",
   "metadata": {},
   "outputs": [],
   "source": [
    "#calculate mean\n",
    "mu = X.mean(axis = 1) # mean of each row across each columns"
   ]
  },
  {
   "cell_type": "code",
   "execution_count": 81,
   "id": "e3a6db8d",
   "metadata": {},
   "outputs": [
    {
     "data": {
      "text/plain": [
       "5"
      ]
     },
     "execution_count": 81,
     "metadata": {},
     "output_type": "execute_result"
    }
   ],
   "source": [
    "ans = round(np.linalg.norm(mu))\n",
    "ans"
   ]
  },
  {
   "cell_type": "markdown",
   "id": "b2aa505f",
   "metadata": {},
   "source": [
    "## 2"
   ]
  },
  {
   "cell_type": "code",
   "execution_count": 82,
   "id": "3ed69130",
   "metadata": {},
   "outputs": [],
   "source": [
    "# DATA CELL\n",
    "# DO NOT EDIT THIS\n",
    "rng = np.random.default_rng(seed = 1002)\n",
    "k = rng.integers(10, 20)\n",
    "d = rng.integers(5, 10)\n",
    "n = rng.integers(50, 100)\n",
    "X = rng.integers(-10, 10, (d, n))"
   ]
  },
  {
   "cell_type": "code",
   "execution_count": 83,
   "id": "7882a49f",
   "metadata": {},
   "outputs": [
    {
     "data": {
      "text/html": [
       "<div>\n",
       "<style scoped>\n",
       "    .dataframe tbody tr th:only-of-type {\n",
       "        vertical-align: middle;\n",
       "    }\n",
       "\n",
       "    .dataframe tbody tr th {\n",
       "        vertical-align: top;\n",
       "    }\n",
       "\n",
       "    .dataframe thead th {\n",
       "        text-align: right;\n",
       "    }\n",
       "</style>\n",
       "<table border=\"1\" class=\"dataframe\">\n",
       "  <thead>\n",
       "    <tr style=\"text-align: right;\">\n",
       "      <th></th>\n",
       "      <th>0</th>\n",
       "      <th>1</th>\n",
       "      <th>2</th>\n",
       "      <th>3</th>\n",
       "      <th>4</th>\n",
       "      <th>5</th>\n",
       "      <th>6</th>\n",
       "      <th>7</th>\n",
       "      <th>8</th>\n",
       "      <th>9</th>\n",
       "      <th>...</th>\n",
       "      <th>78</th>\n",
       "      <th>79</th>\n",
       "      <th>80</th>\n",
       "      <th>81</th>\n",
       "      <th>82</th>\n",
       "      <th>83</th>\n",
       "      <th>84</th>\n",
       "      <th>85</th>\n",
       "      <th>86</th>\n",
       "      <th>87</th>\n",
       "    </tr>\n",
       "  </thead>\n",
       "  <tbody>\n",
       "    <tr>\n",
       "      <th>0</th>\n",
       "      <td>-3</td>\n",
       "      <td>7</td>\n",
       "      <td>4</td>\n",
       "      <td>2</td>\n",
       "      <td>-3</td>\n",
       "      <td>5</td>\n",
       "      <td>-4</td>\n",
       "      <td>-9</td>\n",
       "      <td>1</td>\n",
       "      <td>-3</td>\n",
       "      <td>...</td>\n",
       "      <td>1</td>\n",
       "      <td>0</td>\n",
       "      <td>-1</td>\n",
       "      <td>0</td>\n",
       "      <td>7</td>\n",
       "      <td>0</td>\n",
       "      <td>3</td>\n",
       "      <td>3</td>\n",
       "      <td>-1</td>\n",
       "      <td>2</td>\n",
       "    </tr>\n",
       "    <tr>\n",
       "      <th>1</th>\n",
       "      <td>-2</td>\n",
       "      <td>-9</td>\n",
       "      <td>-8</td>\n",
       "      <td>5</td>\n",
       "      <td>4</td>\n",
       "      <td>-7</td>\n",
       "      <td>-5</td>\n",
       "      <td>-3</td>\n",
       "      <td>-10</td>\n",
       "      <td>-9</td>\n",
       "      <td>...</td>\n",
       "      <td>3</td>\n",
       "      <td>1</td>\n",
       "      <td>2</td>\n",
       "      <td>8</td>\n",
       "      <td>-10</td>\n",
       "      <td>3</td>\n",
       "      <td>-4</td>\n",
       "      <td>3</td>\n",
       "      <td>-10</td>\n",
       "      <td>8</td>\n",
       "    </tr>\n",
       "    <tr>\n",
       "      <th>2</th>\n",
       "      <td>-2</td>\n",
       "      <td>0</td>\n",
       "      <td>5</td>\n",
       "      <td>-3</td>\n",
       "      <td>0</td>\n",
       "      <td>-3</td>\n",
       "      <td>3</td>\n",
       "      <td>0</td>\n",
       "      <td>2</td>\n",
       "      <td>-8</td>\n",
       "      <td>...</td>\n",
       "      <td>0</td>\n",
       "      <td>3</td>\n",
       "      <td>-9</td>\n",
       "      <td>1</td>\n",
       "      <td>2</td>\n",
       "      <td>5</td>\n",
       "      <td>7</td>\n",
       "      <td>7</td>\n",
       "      <td>-10</td>\n",
       "      <td>9</td>\n",
       "    </tr>\n",
       "    <tr>\n",
       "      <th>3</th>\n",
       "      <td>5</td>\n",
       "      <td>-5</td>\n",
       "      <td>5</td>\n",
       "      <td>-3</td>\n",
       "      <td>3</td>\n",
       "      <td>-6</td>\n",
       "      <td>-10</td>\n",
       "      <td>-5</td>\n",
       "      <td>-5</td>\n",
       "      <td>-1</td>\n",
       "      <td>...</td>\n",
       "      <td>-6</td>\n",
       "      <td>9</td>\n",
       "      <td>-6</td>\n",
       "      <td>6</td>\n",
       "      <td>8</td>\n",
       "      <td>5</td>\n",
       "      <td>-6</td>\n",
       "      <td>2</td>\n",
       "      <td>0</td>\n",
       "      <td>-3</td>\n",
       "    </tr>\n",
       "    <tr>\n",
       "      <th>4</th>\n",
       "      <td>7</td>\n",
       "      <td>4</td>\n",
       "      <td>-3</td>\n",
       "      <td>5</td>\n",
       "      <td>5</td>\n",
       "      <td>7</td>\n",
       "      <td>2</td>\n",
       "      <td>-7</td>\n",
       "      <td>5</td>\n",
       "      <td>1</td>\n",
       "      <td>...</td>\n",
       "      <td>-4</td>\n",
       "      <td>-9</td>\n",
       "      <td>-6</td>\n",
       "      <td>3</td>\n",
       "      <td>7</td>\n",
       "      <td>-4</td>\n",
       "      <td>-3</td>\n",
       "      <td>3</td>\n",
       "      <td>9</td>\n",
       "      <td>-1</td>\n",
       "    </tr>\n",
       "    <tr>\n",
       "      <th>5</th>\n",
       "      <td>4</td>\n",
       "      <td>-10</td>\n",
       "      <td>-5</td>\n",
       "      <td>9</td>\n",
       "      <td>1</td>\n",
       "      <td>9</td>\n",
       "      <td>8</td>\n",
       "      <td>-5</td>\n",
       "      <td>4</td>\n",
       "      <td>-7</td>\n",
       "      <td>...</td>\n",
       "      <td>7</td>\n",
       "      <td>-5</td>\n",
       "      <td>1</td>\n",
       "      <td>2</td>\n",
       "      <td>-6</td>\n",
       "      <td>5</td>\n",
       "      <td>-4</td>\n",
       "      <td>4</td>\n",
       "      <td>7</td>\n",
       "      <td>4</td>\n",
       "    </tr>\n",
       "  </tbody>\n",
       "</table>\n",
       "<p>6 rows × 88 columns</p>\n",
       "</div>"
      ],
      "text/plain": [
       "   0   1   2   3   4   5   6   7   8   9   ...  78  79  80  81  82  83  84  \\\n",
       "0  -3   7   4   2  -3   5  -4  -9   1  -3  ...   1   0  -1   0   7   0   3   \n",
       "1  -2  -9  -8   5   4  -7  -5  -3 -10  -9  ...   3   1   2   8 -10   3  -4   \n",
       "2  -2   0   5  -3   0  -3   3   0   2  -8  ...   0   3  -9   1   2   5   7   \n",
       "3   5  -5   5  -3   3  -6 -10  -5  -5  -1  ...  -6   9  -6   6   8   5  -6   \n",
       "4   7   4  -3   5   5   7   2  -7   5   1  ...  -4  -9  -6   3   7  -4  -3   \n",
       "5   4 -10  -5   9   1   9   8  -5   4  -7  ...   7  -5   1   2  -6   5  -4   \n",
       "\n",
       "   85  86  87  \n",
       "0   3  -1   2  \n",
       "1   3 -10   8  \n",
       "2   7 -10   9  \n",
       "3   2   0  -3  \n",
       "4   3   9  -1  \n",
       "5   4   7   4  \n",
       "\n",
       "[6 rows x 88 columns]"
      ]
     },
     "execution_count": 83,
     "metadata": {},
     "output_type": "execute_result"
    }
   ],
   "source": [
    "df = pd.DataFrame(X)\n",
    "df"
   ]
  },
  {
   "cell_type": "code",
   "execution_count": 84,
   "id": "df36b5ce",
   "metadata": {},
   "outputs": [
    {
     "data": {
      "text/plain": [
       "129.18591254467339"
      ]
     },
     "execution_count": 84,
     "metadata": {},
     "output_type": "execute_result"
    }
   ],
   "source": [
    "#find the norm of each datapoint\n",
    "normi = np.linalg.norm(X)\n",
    "normi"
   ]
  },
  {
   "cell_type": "code",
   "execution_count": 85,
   "id": "c324ce61",
   "metadata": {},
   "outputs": [
    {
     "data": {
      "text/plain": [
       "array([10.34408043, 16.46207763, 12.80624847, 12.36931688,  7.74596669,\n",
       "       15.77973384, 14.76482306, 13.74772708, 13.07669683, 14.31782106,\n",
       "       16.85229955, 17.02938637, 16.09347694, 14.        , 14.79864859,\n",
       "       11.74734012, 12.68857754, 12.84523258, 17.2626765 , 12.28820573,\n",
       "       17.52141547, 15.55634919, 10.19803903, 12.32882801, 16.88194302,\n",
       "       12.32882801, 14.45683229, 12.88409873, 19.        , 12.32882801,\n",
       "       16.03121954, 16.97056275, 16.94107435, 14.35270009, 13.11487705,\n",
       "       14.28285686, 17.3781472 , 15.45962483, 10.90871211, 12.24744871,\n",
       "       14.83239697, 12.489996  , 11.22497216, 12.72792206, 15.96871942,\n",
       "        8.94427191, 17.34935157,  8.60232527, 14.6628783 , 12.84523258,\n",
       "       16.09347694,  9.2736185 , 17.05872211, 11.5758369 , 15.84297952,\n",
       "       11.26942767, 14.4222051 , 11.87434209, 12.32882801, 13.3041347 ,\n",
       "       14.28285686, 11.22497216, 14.2126704 , 13.45362405, 13.49073756,\n",
       "       13.7113092 , 11.04536102, 11.26942767, 15.93737745, 13.82027496,\n",
       "       14.14213562, 13.52774926,  8.18535277, 12.68857754, 13.37908816,\n",
       "       14.89966443,  8.60232527, 14.96662955, 10.53565375, 14.03566885,\n",
       "       12.60952021, 10.67707825, 17.3781472 , 10.        , 11.61895004,\n",
       "        9.79795897, 18.1934054 , 13.22875656])"
      ]
     },
     "execution_count": 85,
     "metadata": {},
     "output_type": "execute_result"
    }
   ],
   "source": [
    "normii = np.linalg.norm(X , axis = 0) \n",
    "# norm in down diraction each column\n",
    "normii"
   ]
  },
  {
   "cell_type": "code",
   "execution_count": 86,
   "id": "dc63af4f",
   "metadata": {},
   "outputs": [],
   "source": [
    "condition = np.where(normii >= k,1,0 )"
   ]
  },
  {
   "cell_type": "code",
   "execution_count": 87,
   "id": "49ae930b",
   "metadata": {},
   "outputs": [
    {
     "data": {
      "text/plain": [
       "17"
      ]
     },
     "execution_count": 87,
     "metadata": {},
     "output_type": "execute_result"
    }
   ],
   "source": [
    "count_condition = condition.sum()\n",
    "count_condition \n"
   ]
  },
  {
   "cell_type": "markdown",
   "id": "447a56ed",
   "metadata": {},
   "source": [
    "## 3"
   ]
  },
  {
   "cell_type": "markdown",
   "id": "746e92ed",
   "metadata": {},
   "source": [
    "Calculate trace"
   ]
  },
  {
   "cell_type": "code",
   "execution_count": 88,
   "id": "e7096c53",
   "metadata": {},
   "outputs": [],
   "source": [
    "# DATA CELL\n",
    "# DO NOT EDIT THIS\n",
    "rng = np.random.default_rng(seed = 1003)\n",
    "m, n = rng.integers(50, 100, 2)\n",
    "A = rng.integers(-1, 2, (m, n))"
   ]
  },
  {
   "cell_type": "code",
   "execution_count": 89,
   "id": "05685170",
   "metadata": {},
   "outputs": [
    {
     "data": {
      "text/plain": [
       "array([[ 0, -1, -1, ..., -1, -1,  1],\n",
       "       [ 0,  1,  0, ...,  1,  0,  0],\n",
       "       [ 0,  0,  1, ..., -1, -1, -1],\n",
       "       ...,\n",
       "       [ 0,  1, -1, ...,  0,  0,  1],\n",
       "       [-1,  1,  0, ...,  0,  0, -1],\n",
       "       [-1, -1,  1, ...,  0, -1,  0]], dtype=int64)"
      ]
     },
     "execution_count": 89,
     "metadata": {},
     "output_type": "execute_result"
    }
   ],
   "source": [
    "A"
   ]
  },
  {
   "cell_type": "code",
   "execution_count": 90,
   "id": "a5bb40a2",
   "metadata": {},
   "outputs": [
    {
     "name": "stdout",
     "output_type": "stream",
     "text": [
      "(64, 59)\n"
     ]
    }
   ],
   "source": [
    "print(A.shape)"
   ]
  },
  {
   "cell_type": "code",
   "execution_count": 91,
   "id": "eff77be4",
   "metadata": {},
   "outputs": [
    {
     "data": {
      "text/plain": [
       "array([[41, -7,  4, ..., 10, 14, -9],\n",
       "       [-7, 42, -2, ..., -6, -1,  7],\n",
       "       [ 4, -2, 44, ...,  4, -2, -3],\n",
       "       ...,\n",
       "       [10, -6,  4, ..., 41,  2,  0],\n",
       "       [14, -1, -2, ...,  2, 42, -3],\n",
       "       [-9,  7, -3, ...,  0, -3, 51]], dtype=int64)"
      ]
     },
     "execution_count": 91,
     "metadata": {},
     "output_type": "execute_result"
    }
   ],
   "source": [
    "Matrix = A.T @ A\n",
    "Matrix"
   ]
  },
  {
   "cell_type": "code",
   "execution_count": 92,
   "id": "f0ada787",
   "metadata": {},
   "outputs": [
    {
     "data": {
      "text/plain": [
       "2517"
      ]
     },
     "execution_count": 92,
     "metadata": {},
     "output_type": "execute_result"
    }
   ],
   "source": [
    "#sum of the diagonal element\n",
    "diagonal_element = [Matrix[i][i] for i in range(Matrix.shape[0])]\n",
    "sum_diagonal_element = sum(diagonal_element)\n",
    "sum_diagonal_element"
   ]
  },
  {
   "cell_type": "markdown",
   "id": "8ec81011",
   "metadata": {},
   "source": [
    "## 4"
   ]
  },
  {
   "cell_type": "markdown",
   "id": "5062bb01",
   "metadata": {},
   "source": [
    "Find no of point of intersection of two curves"
   ]
  },
  {
   "cell_type": "code",
   "execution_count": 93,
   "id": "88aad3bb",
   "metadata": {},
   "outputs": [
    {
     "data": {
      "text/plain": [
       "array([0.15      , 0.1507014 , 0.15140281, 0.15210421, 0.15280561,\n",
       "       0.15350701, 0.15420842, 0.15490982, 0.15561122, 0.15631263,\n",
       "       0.15701403, 0.15771543, 0.15841683, 0.15911824, 0.15981964,\n",
       "       0.16052104, 0.16122244, 0.16192385, 0.16262525, 0.16332665,\n",
       "       0.16402806, 0.16472946, 0.16543086, 0.16613226, 0.16683367,\n",
       "       0.16753507, 0.16823647, 0.16893788, 0.16963928, 0.17034068,\n",
       "       0.17104208, 0.17174349, 0.17244489, 0.17314629, 0.1738477 ,\n",
       "       0.1745491 , 0.1752505 , 0.1759519 , 0.17665331, 0.17735471,\n",
       "       0.17805611, 0.17875752, 0.17945892, 0.18016032, 0.18086172,\n",
       "       0.18156313, 0.18226453, 0.18296593, 0.18366733, 0.18436874,\n",
       "       0.18507014, 0.18577154, 0.18647295, 0.18717435, 0.18787575,\n",
       "       0.18857715, 0.18927856, 0.18997996, 0.19068136, 0.19138277,\n",
       "       0.19208417, 0.19278557, 0.19348697, 0.19418838, 0.19488978,\n",
       "       0.19559118, 0.19629259, 0.19699399, 0.19769539, 0.19839679,\n",
       "       0.1990982 , 0.1997996 , 0.200501  , 0.2012024 , 0.20190381,\n",
       "       0.20260521, 0.20330661, 0.20400802, 0.20470942, 0.20541082,\n",
       "       0.20611222, 0.20681363, 0.20751503, 0.20821643, 0.20891784,\n",
       "       0.20961924, 0.21032064, 0.21102204, 0.21172345, 0.21242485,\n",
       "       0.21312625, 0.21382766, 0.21452906, 0.21523046, 0.21593186,\n",
       "       0.21663327, 0.21733467, 0.21803607, 0.21873747, 0.21943888,\n",
       "       0.22014028, 0.22084168, 0.22154309, 0.22224449, 0.22294589,\n",
       "       0.22364729, 0.2243487 , 0.2250501 , 0.2257515 , 0.22645291,\n",
       "       0.22715431, 0.22785571, 0.22855711, 0.22925852, 0.22995992,\n",
       "       0.23066132, 0.23136273, 0.23206413, 0.23276553, 0.23346693,\n",
       "       0.23416834, 0.23486974, 0.23557114, 0.23627255, 0.23697395,\n",
       "       0.23767535, 0.23837675, 0.23907816, 0.23977956, 0.24048096,\n",
       "       0.24118236, 0.24188377, 0.24258517, 0.24328657, 0.24398798,\n",
       "       0.24468938, 0.24539078, 0.24609218, 0.24679359, 0.24749499,\n",
       "       0.24819639, 0.2488978 , 0.2495992 , 0.2503006 , 0.251002  ,\n",
       "       0.25170341, 0.25240481, 0.25310621, 0.25380762, 0.25450902,\n",
       "       0.25521042, 0.25591182, 0.25661323, 0.25731463, 0.25801603,\n",
       "       0.25871743, 0.25941884, 0.26012024, 0.26082164, 0.26152305,\n",
       "       0.26222445, 0.26292585, 0.26362725, 0.26432866, 0.26503006,\n",
       "       0.26573146, 0.26643287, 0.26713427, 0.26783567, 0.26853707,\n",
       "       0.26923848, 0.26993988, 0.27064128, 0.27134269, 0.27204409,\n",
       "       0.27274549, 0.27344689, 0.2741483 , 0.2748497 , 0.2755511 ,\n",
       "       0.27625251, 0.27695391, 0.27765531, 0.27835671, 0.27905812,\n",
       "       0.27975952, 0.28046092, 0.28116232, 0.28186373, 0.28256513,\n",
       "       0.28326653, 0.28396794, 0.28466934, 0.28537074, 0.28607214,\n",
       "       0.28677355, 0.28747495, 0.28817635, 0.28887776, 0.28957916,\n",
       "       0.29028056, 0.29098196, 0.29168337, 0.29238477, 0.29308617,\n",
       "       0.29378758, 0.29448898, 0.29519038, 0.29589178, 0.29659319,\n",
       "       0.29729459, 0.29799599, 0.29869739, 0.2993988 , 0.3001002 ,\n",
       "       0.3008016 , 0.30150301, 0.30220441, 0.30290581, 0.30360721,\n",
       "       0.30430862, 0.30501002, 0.30571142, 0.30641283, 0.30711423,\n",
       "       0.30781563, 0.30851703, 0.30921844, 0.30991984, 0.31062124,\n",
       "       0.31132265, 0.31202405, 0.31272545, 0.31342685, 0.31412826,\n",
       "       0.31482966, 0.31553106, 0.31623246, 0.31693387, 0.31763527,\n",
       "       0.31833667, 0.31903808, 0.31973948, 0.32044088, 0.32114228,\n",
       "       0.32184369, 0.32254509, 0.32324649, 0.3239479 , 0.3246493 ,\n",
       "       0.3253507 , 0.3260521 , 0.32675351, 0.32745491, 0.32815631,\n",
       "       0.32885772, 0.32955912, 0.33026052, 0.33096192, 0.33166333,\n",
       "       0.33236473, 0.33306613, 0.33376754, 0.33446894, 0.33517034,\n",
       "       0.33587174, 0.33657315, 0.33727455, 0.33797595, 0.33867735,\n",
       "       0.33937876, 0.34008016, 0.34078156, 0.34148297, 0.34218437,\n",
       "       0.34288577, 0.34358717, 0.34428858, 0.34498998, 0.34569138,\n",
       "       0.34639279, 0.34709419, 0.34779559, 0.34849699, 0.3491984 ,\n",
       "       0.3498998 , 0.3506012 , 0.35130261, 0.35200401, 0.35270541,\n",
       "       0.35340681, 0.35410822, 0.35480962, 0.35551102, 0.35621242,\n",
       "       0.35691383, 0.35761523, 0.35831663, 0.35901804, 0.35971944,\n",
       "       0.36042084, 0.36112224, 0.36182365, 0.36252505, 0.36322645,\n",
       "       0.36392786, 0.36462926, 0.36533066, 0.36603206, 0.36673347,\n",
       "       0.36743487, 0.36813627, 0.36883768, 0.36953908, 0.37024048,\n",
       "       0.37094188, 0.37164329, 0.37234469, 0.37304609, 0.37374749,\n",
       "       0.3744489 , 0.3751503 , 0.3758517 , 0.37655311, 0.37725451,\n",
       "       0.37795591, 0.37865731, 0.37935872, 0.38006012, 0.38076152,\n",
       "       0.38146293, 0.38216433, 0.38286573, 0.38356713, 0.38426854,\n",
       "       0.38496994, 0.38567134, 0.38637275, 0.38707415, 0.38777555,\n",
       "       0.38847695, 0.38917836, 0.38987976, 0.39058116, 0.39128257,\n",
       "       0.39198397, 0.39268537, 0.39338677, 0.39408818, 0.39478958,\n",
       "       0.39549098, 0.39619238, 0.39689379, 0.39759519, 0.39829659,\n",
       "       0.398998  , 0.3996994 , 0.4004008 , 0.4011022 , 0.40180361,\n",
       "       0.40250501, 0.40320641, 0.40390782, 0.40460922, 0.40531062,\n",
       "       0.40601202, 0.40671343, 0.40741483, 0.40811623, 0.40881764,\n",
       "       0.40951904, 0.41022044, 0.41092184, 0.41162325, 0.41232465,\n",
       "       0.41302605, 0.41372745, 0.41442886, 0.41513026, 0.41583166,\n",
       "       0.41653307, 0.41723447, 0.41793587, 0.41863727, 0.41933868,\n",
       "       0.42004008, 0.42074148, 0.42144289, 0.42214429, 0.42284569,\n",
       "       0.42354709, 0.4242485 , 0.4249499 , 0.4256513 , 0.42635271,\n",
       "       0.42705411, 0.42775551, 0.42845691, 0.42915832, 0.42985972,\n",
       "       0.43056112, 0.43126253, 0.43196393, 0.43266533, 0.43336673,\n",
       "       0.43406814, 0.43476954, 0.43547094, 0.43617234, 0.43687375,\n",
       "       0.43757515, 0.43827655, 0.43897796, 0.43967936, 0.44038076,\n",
       "       0.44108216, 0.44178357, 0.44248497, 0.44318637, 0.44388778,\n",
       "       0.44458918, 0.44529058, 0.44599198, 0.44669339, 0.44739479,\n",
       "       0.44809619, 0.4487976 , 0.449499  , 0.4502004 , 0.4509018 ,\n",
       "       0.45160321, 0.45230461, 0.45300601, 0.45370741, 0.45440882,\n",
       "       0.45511022, 0.45581162, 0.45651303, 0.45721443, 0.45791583,\n",
       "       0.45861723, 0.45931864, 0.46002004, 0.46072144, 0.46142285,\n",
       "       0.46212425, 0.46282565, 0.46352705, 0.46422846, 0.46492986,\n",
       "       0.46563126, 0.46633267, 0.46703407, 0.46773547, 0.46843687,\n",
       "       0.46913828, 0.46983968, 0.47054108, 0.47124248, 0.47194389,\n",
       "       0.47264529, 0.47334669, 0.4740481 , 0.4747495 , 0.4754509 ,\n",
       "       0.4761523 , 0.47685371, 0.47755511, 0.47825651, 0.47895792,\n",
       "       0.47965932, 0.48036072, 0.48106212, 0.48176353, 0.48246493,\n",
       "       0.48316633, 0.48386774, 0.48456914, 0.48527054, 0.48597194,\n",
       "       0.48667335, 0.48737475, 0.48807615, 0.48877756, 0.48947896,\n",
       "       0.49018036, 0.49088176, 0.49158317, 0.49228457, 0.49298597,\n",
       "       0.49368737, 0.49438878, 0.49509018, 0.49579158, 0.49649299,\n",
       "       0.49719439, 0.49789579, 0.49859719, 0.4992986 , 0.5       ])"
      ]
     },
     "execution_count": 93,
     "metadata": {},
     "output_type": "execute_result"
    }
   ],
   "source": [
    "x = np.linspace(0.15 , 0.5 , 500)\n",
    "x"
   ]
  },
  {
   "cell_type": "code",
   "execution_count": 94,
   "id": "dba216e7",
   "metadata": {},
   "outputs": [
    {
     "name": "stdout",
     "output_type": "stream",
     "text": [
      "4\n"
     ]
    },
    {
     "data": {
      "image/png": "[encoded data removed]",
      "text/plain": [
       "<Figure size 640x480 with 1 Axes>"
      ]
     },
     "metadata": {},
     "output_type": "display_data"
    }
   ],
   "source": [
    "plt.plot(x , x * np.exp(x))\n",
    "plt.plot(x , np.sin(10 *np.pi *x))\n",
    "print(4)"
   ]
  },
  {
   "cell_type": "markdown",
   "id": "1f824d84",
   "metadata": {},
   "source": [
    "## 5"
   ]
  },
  {
   "cell_type": "markdown",
   "id": "07915a41",
   "metadata": {},
   "source": [
    "if A is invertible , find the solution to this system  and enter the sum of component of the solutin as ans."
   ]
  },
  {
   "cell_type": "code",
   "execution_count": 95,
   "id": "324686b4",
   "metadata": {},
   "outputs": [],
   "source": [
    "A = np.array([[1,2,-1,3],\n",
    "     [0,1,2,-1],\n",
    "     [1,-2,3,1],\n",
    "     [0,-1,-1,2]])\n",
    "b = np.array([1,2,-1,0])"
   ]
  },
  {
   "cell_type": "code",
   "execution_count": 96,
   "id": "710749b9",
   "metadata": {},
   "outputs": [],
   "source": [
    "# checking iF A is invertible\n",
    "assert np.linalg.matrix_rank(A) == A.shape[0]"
   ]
  },
  {
   "cell_type": "code",
   "execution_count": 97,
   "id": "81623096",
   "metadata": {},
   "outputs": [
    {
     "data": {
      "text/plain": [
       "array([-3.,  1.,  1.,  1.])"
      ]
     },
     "execution_count": 97,
     "metadata": {},
     "output_type": "execute_result"
    }
   ],
   "source": [
    "# now calculate the value of x -----the solution of the matrix\n",
    "x  = np.linalg.inv(A) @ b\n",
    "x"
   ]
  },
  {
   "cell_type": "code",
   "execution_count": 98,
   "id": "96fd8c27",
   "metadata": {},
   "outputs": [
    {
     "data": {
      "text/plain": [
       "0.0"
      ]
     },
     "execution_count": 98,
     "metadata": {},
     "output_type": "execute_result"
    }
   ],
   "source": [
    "# sum of component of x\n",
    "x.sum()"
   ]
  },
  {
   "cell_type": "markdown",
   "id": "98adab73",
   "metadata": {},
   "source": [
    "## 6"
   ]
  },
  {
   "cell_type": "markdown",
   "id": "8370a378",
   "metadata": {},
   "source": [
    "Find pridicted label vector     \n",
    "enter the sum of the component of pridicted lable vector"
   ]
  },
  {
   "cell_type": "markdown",
   "id": "961a7b6a",
   "metadata": {},
   "source": [
    "w   weight vector    \n",
    "\n",
    "y_hat  predicted value     \n",
    "codition:    \n",
    "if w.T @ x >= 0 , y_hat = 1 else 0 "
   ]
  },
  {
   "cell_type": "code",
   "execution_count": 99,
   "id": "fe5a8add",
   "metadata": {},
   "outputs": [],
   "source": [
    "# DATA CELL\n",
    "# DO NOT EDIT THIS\n",
    "rng = np.random.default_rng(seed = 1006)\n",
    "d = rng.integers(3, 6)\n",
    "n = rng.integers(40, 60)\n",
    "if n % 2 != 0: n += 1\n",
    "X = rng.uniform(-2, 2, (d, n))\n",
    "y = np.concatenate(\n",
    "    (np.ones(n // 2),\n",
    "    np.zeros(n // 2))\n",
    ")\n",
    "w = rng.uniform(-5, 5, d)"
   ]
  },
  {
   "cell_type": "code",
   "execution_count": 100,
   "id": "9bda59ee",
   "metadata": {},
   "outputs": [
    {
     "data": {
      "text/html": [
       "<div>\n",
       "<style scoped>\n",
       "    .dataframe tbody tr th:only-of-type {\n",
       "        vertical-align: middle;\n",
       "    }\n",
       "\n",
       "    .dataframe tbody tr th {\n",
       "        vertical-align: top;\n",
       "    }\n",
       "\n",
       "    .dataframe thead th {\n",
       "        text-align: right;\n",
       "    }\n",
       "</style>\n",
       "<table border=\"1\" class=\"dataframe\">\n",
       "  <thead>\n",
       "    <tr style=\"text-align: right;\">\n",
       "      <th></th>\n",
       "      <th>0</th>\n",
       "      <th>1</th>\n",
       "      <th>2</th>\n",
       "      <th>3</th>\n",
       "      <th>4</th>\n",
       "      <th>5</th>\n",
       "      <th>6</th>\n",
       "      <th>7</th>\n",
       "      <th>8</th>\n",
       "      <th>9</th>\n",
       "      <th>...</th>\n",
       "      <th>36</th>\n",
       "      <th>37</th>\n",
       "      <th>38</th>\n",
       "      <th>39</th>\n",
       "      <th>40</th>\n",
       "      <th>41</th>\n",
       "      <th>42</th>\n",
       "      <th>43</th>\n",
       "      <th>44</th>\n",
       "      <th>45</th>\n",
       "    </tr>\n",
       "  </thead>\n",
       "  <tbody>\n",
       "    <tr>\n",
       "      <th>0</th>\n",
       "      <td>0.403428</td>\n",
       "      <td>-0.808675</td>\n",
       "      <td>-1.049710</td>\n",
       "      <td>1.199079</td>\n",
       "      <td>-0.659819</td>\n",
       "      <td>-0.376906</td>\n",
       "      <td>-0.574257</td>\n",
       "      <td>0.699416</td>\n",
       "      <td>-0.044217</td>\n",
       "      <td>1.451646</td>\n",
       "      <td>...</td>\n",
       "      <td>-0.990396</td>\n",
       "      <td>-1.167577</td>\n",
       "      <td>-1.475461</td>\n",
       "      <td>-0.475412</td>\n",
       "      <td>-1.912765</td>\n",
       "      <td>1.052690</td>\n",
       "      <td>0.158048</td>\n",
       "      <td>-0.407202</td>\n",
       "      <td>-0.870776</td>\n",
       "      <td>-0.728545</td>\n",
       "    </tr>\n",
       "    <tr>\n",
       "      <th>1</th>\n",
       "      <td>-0.435873</td>\n",
       "      <td>1.158456</td>\n",
       "      <td>0.708621</td>\n",
       "      <td>0.539917</td>\n",
       "      <td>-0.843872</td>\n",
       "      <td>0.051142</td>\n",
       "      <td>-1.073786</td>\n",
       "      <td>1.610360</td>\n",
       "      <td>0.458685</td>\n",
       "      <td>1.417517</td>\n",
       "      <td>...</td>\n",
       "      <td>-0.383609</td>\n",
       "      <td>-0.326184</td>\n",
       "      <td>-1.794494</td>\n",
       "      <td>-0.527713</td>\n",
       "      <td>1.415110</td>\n",
       "      <td>-0.290120</td>\n",
       "      <td>0.753887</td>\n",
       "      <td>0.308324</td>\n",
       "      <td>-0.276912</td>\n",
       "      <td>0.438416</td>\n",
       "    </tr>\n",
       "    <tr>\n",
       "      <th>2</th>\n",
       "      <td>-1.768017</td>\n",
       "      <td>-1.176570</td>\n",
       "      <td>1.655722</td>\n",
       "      <td>-0.181537</td>\n",
       "      <td>-0.959066</td>\n",
       "      <td>1.998385</td>\n",
       "      <td>-0.988009</td>\n",
       "      <td>-0.850370</td>\n",
       "      <td>-1.269057</td>\n",
       "      <td>-0.707214</td>\n",
       "      <td>...</td>\n",
       "      <td>0.045119</td>\n",
       "      <td>0.848943</td>\n",
       "      <td>-0.713026</td>\n",
       "      <td>0.390360</td>\n",
       "      <td>0.606191</td>\n",
       "      <td>1.783299</td>\n",
       "      <td>-1.279666</td>\n",
       "      <td>1.705525</td>\n",
       "      <td>0.419640</td>\n",
       "      <td>-0.553275</td>\n",
       "    </tr>\n",
       "    <tr>\n",
       "      <th>3</th>\n",
       "      <td>1.840642</td>\n",
       "      <td>0.039948</td>\n",
       "      <td>-0.164377</td>\n",
       "      <td>-1.594587</td>\n",
       "      <td>-1.897575</td>\n",
       "      <td>-1.577923</td>\n",
       "      <td>0.254754</td>\n",
       "      <td>0.927503</td>\n",
       "      <td>-1.308017</td>\n",
       "      <td>1.124036</td>\n",
       "      <td>...</td>\n",
       "      <td>-1.596630</td>\n",
       "      <td>-1.870826</td>\n",
       "      <td>-0.041670</td>\n",
       "      <td>0.914337</td>\n",
       "      <td>1.075652</td>\n",
       "      <td>-1.216623</td>\n",
       "      <td>0.349794</td>\n",
       "      <td>-1.452872</td>\n",
       "      <td>-1.904859</td>\n",
       "      <td>1.906761</td>\n",
       "    </tr>\n",
       "    <tr>\n",
       "      <th>y</th>\n",
       "      <td>1.000000</td>\n",
       "      <td>1.000000</td>\n",
       "      <td>1.000000</td>\n",
       "      <td>1.000000</td>\n",
       "      <td>1.000000</td>\n",
       "      <td>1.000000</td>\n",
       "      <td>1.000000</td>\n",
       "      <td>1.000000</td>\n",
       "      <td>1.000000</td>\n",
       "      <td>1.000000</td>\n",
       "      <td>...</td>\n",
       "      <td>0.000000</td>\n",
       "      <td>0.000000</td>\n",
       "      <td>0.000000</td>\n",
       "      <td>0.000000</td>\n",
       "      <td>0.000000</td>\n",
       "      <td>0.000000</td>\n",
       "      <td>0.000000</td>\n",
       "      <td>0.000000</td>\n",
       "      <td>0.000000</td>\n",
       "      <td>0.000000</td>\n",
       "    </tr>\n",
       "  </tbody>\n",
       "</table>\n",
       "<p>5 rows × 46 columns</p>\n",
       "</div>"
      ],
      "text/plain": [
       "         0         1         2         3         4         5         6   \\\n",
       "0  0.403428 -0.808675 -1.049710  1.199079 -0.659819 -0.376906 -0.574257   \n",
       "1 -0.435873  1.158456  0.708621  0.539917 -0.843872  0.051142 -1.073786   \n",
       "2 -1.768017 -1.176570  1.655722 -0.181537 -0.959066  1.998385 -0.988009   \n",
       "3  1.840642  0.039948 -0.164377 -1.594587 -1.897575 -1.577923  0.254754   \n",
       "y  1.000000  1.000000  1.000000  1.000000  1.000000  1.000000  1.000000   \n",
       "\n",
       "         7         8         9   ...        36        37        38        39  \\\n",
       "0  0.699416 -0.044217  1.451646  ... -0.990396 -1.167577 -1.475461 -0.475412   \n",
       "1  1.610360  0.458685  1.417517  ... -0.383609 -0.326184 -1.794494 -0.527713   \n",
       "2 -0.850370 -1.269057 -0.707214  ...  0.045119  0.848943 -0.713026  0.390360   \n",
       "3  0.927503 -1.308017  1.124036  ... -1.596630 -1.870826 -0.041670  0.914337   \n",
       "y  1.000000  1.000000  1.000000  ...  0.000000  0.000000  0.000000  0.000000   \n",
       "\n",
       "         40        41        42        43        44        45  \n",
       "0 -1.912765  1.052690  0.158048 -0.407202 -0.870776 -0.728545  \n",
       "1  1.415110 -0.290120  0.753887  0.308324 -0.276912  0.438416  \n",
       "2  0.606191  1.783299 -1.279666  1.705525  0.419640 -0.553275  \n",
       "3  1.075652 -1.216623  0.349794 -1.452872 -1.904859  1.906761  \n",
       "y  0.000000  0.000000  0.000000  0.000000  0.000000  0.000000  \n",
       "\n",
       "[5 rows x 46 columns]"
      ]
     },
     "execution_count": 100,
     "metadata": {},
     "output_type": "execute_result"
    }
   ],
   "source": [
    "## Only to visualize in table format \n",
    "df = pd.DataFrame(X.T)\n",
    "df['y'] = y\n",
    "df.T"
   ]
  },
  {
   "cell_type": "code",
   "execution_count": 101,
   "id": "f9fd33ba",
   "metadata": {},
   "outputs": [
    {
     "data": {
      "text/plain": [
       "19"
      ]
     },
     "execution_count": 101,
     "metadata": {},
     "output_type": "execute_result"
    }
   ],
   "source": [
    "#solution\n",
    "y_hat = np.where(w.T @ X >= 0 ,1 , 0)\n",
    "y_hat.sum()"
   ]
  },
  {
   "cell_type": "markdown",
   "id": "f8a96fe2",
   "metadata": {},
   "source": [
    "# Common data for question (7) to (10)"
   ]
  },
  {
   "cell_type": "markdown",
   "id": "920e9ce4",
   "metadata": {},
   "source": [
    "## Binary classification dataset"
   ]
  },
  {
   "cell_type": "code",
   "execution_count": 118,
   "id": "af8adee5",
   "metadata": {},
   "outputs": [],
   "source": [
    "# DATA CELL\n",
    "# DO NOT EDIT THIS\n",
    "X = np.array([\n",
    "    [2, 2, 2, 3, -2, -2, -5, -3],\n",
    "    [0, 1, -1, 0, 0, -3, 3, -1]\n",
    "])\n",
    "y = np.array(\n",
    "    [-1, -1, -1, -1, 1, 1, 1, 1]\n",
    ")"
   ]
  },
  {
   "cell_type": "code",
   "execution_count": 119,
   "id": "7773f4fe",
   "metadata": {},
   "outputs": [
    {
     "data": {
      "text/plain": [
       "array([[ 2,  2,  2,  3, -2, -2, -5, -3],\n",
       "       [ 0,  1, -1,  0,  0, -3,  3, -1]])"
      ]
     },
     "execution_count": 119,
     "metadata": {},
     "output_type": "execute_result"
    }
   ],
   "source": [
    "X"
   ]
  },
  {
   "cell_type": "code",
   "execution_count": 120,
   "id": "8c43c160",
   "metadata": {},
   "outputs": [
    {
     "data": {
      "text/html": [
       "<div>\n",
       "<style scoped>\n",
       "    .dataframe tbody tr th:only-of-type {\n",
       "        vertical-align: middle;\n",
       "    }\n",
       "\n",
       "    .dataframe tbody tr th {\n",
       "        vertical-align: top;\n",
       "    }\n",
       "\n",
       "    .dataframe thead th {\n",
       "        text-align: right;\n",
       "    }\n",
       "</style>\n",
       "<table border=\"1\" class=\"dataframe\">\n",
       "  <thead>\n",
       "    <tr style=\"text-align: right;\">\n",
       "      <th></th>\n",
       "      <th>0</th>\n",
       "      <th>1</th>\n",
       "      <th>2</th>\n",
       "      <th>3</th>\n",
       "      <th>4</th>\n",
       "      <th>5</th>\n",
       "      <th>6</th>\n",
       "      <th>7</th>\n",
       "    </tr>\n",
       "  </thead>\n",
       "  <tbody>\n",
       "    <tr>\n",
       "      <th>0</th>\n",
       "      <td>2</td>\n",
       "      <td>2</td>\n",
       "      <td>2</td>\n",
       "      <td>3</td>\n",
       "      <td>-2</td>\n",
       "      <td>-2</td>\n",
       "      <td>-5</td>\n",
       "      <td>-3</td>\n",
       "    </tr>\n",
       "    <tr>\n",
       "      <th>1</th>\n",
       "      <td>0</td>\n",
       "      <td>1</td>\n",
       "      <td>-1</td>\n",
       "      <td>0</td>\n",
       "      <td>0</td>\n",
       "      <td>-3</td>\n",
       "      <td>3</td>\n",
       "      <td>-1</td>\n",
       "    </tr>\n",
       "    <tr>\n",
       "      <th>y</th>\n",
       "      <td>-1</td>\n",
       "      <td>-1</td>\n",
       "      <td>-1</td>\n",
       "      <td>-1</td>\n",
       "      <td>1</td>\n",
       "      <td>1</td>\n",
       "      <td>1</td>\n",
       "      <td>1</td>\n",
       "    </tr>\n",
       "  </tbody>\n",
       "</table>\n",
       "</div>"
      ],
      "text/plain": [
       "   0  1  2  3  4  5  6  7\n",
       "0  2  2  2  3 -2 -2 -5 -3\n",
       "1  0  1 -1  0  0 -3  3 -1\n",
       "y -1 -1 -1 -1  1  1  1  1"
      ]
     },
     "execution_count": 120,
     "metadata": {},
     "output_type": "execute_result"
    }
   ],
   "source": [
    "df = pd.DataFrame(X.T)\n",
    "df['y'] = y\n",
    "df.T"
   ]
  },
  {
   "cell_type": "markdown",
   "id": "84a633d0",
   "metadata": {},
   "source": [
    "\n",
    "## 7"
   ]
  },
  {
   "cell_type": "markdown",
   "id": "a3b2d791",
   "metadata": {},
   "source": [
    "| Step          | Description                                                        |\n",
    "|---------------|--------------------------------------------------------------------|\n",
    "| Initialize    | Set small weights and bias                                         |\n",
    "| Weighted Sum  | Compute weighted input + bias                                      |\n",
    "| Activation    | Apply step function: output 1 if sum ≥ 0, else 0                   |\n",
    "| Update        | Adjust weights/bias if prediction is wrong                         |\n",
    "| Iterate       | Repeat until all samples are classified correctly or max epochs    |"
   ]
  },
  {
   "cell_type": "code",
   "execution_count": 121,
   "id": "4e3103a5",
   "metadata": {},
   "outputs": [],
   "source": [
    "#peceptron algorithm\n",
    "d , n = X.shape\n",
    "i = 0\n",
    "epochs = 0 \n",
    "w = np.zeros(d)\n",
    "while epochs != n:\n",
    "    y_hat = 1 if  X[:, i] @ w >= 0 else -1\n",
    "    # y_hat = 1 if  X[:, i] @ w >= 0 else -1\n",
    "    if y_hat != y[i]:\n",
    "        w += X[:,i] * y[i]\n",
    "        epochs = 0\n",
    "    else:\n",
    "        epochs +=1\n",
    "    i +=1\n",
    "    if i == n:\n",
    "        i =0\n"
   ]
  },
  {
   "cell_type": "code",
   "execution_count": 122,
   "id": "71f395ce",
   "metadata": {},
   "outputs": [
    {
     "name": "stdout",
     "output_type": "stream",
     "text": [
      "[-2.  0.]\n"
     ]
    }
   ],
   "source": [
    "print(w)"
   ]
  },
  {
   "cell_type": "code",
   "execution_count": 123,
   "id": "c478fb7a",
   "metadata": {},
   "outputs": [
    {
     "data": {
      "text/plain": [
       "-2.0"
      ]
     },
     "execution_count": 123,
     "metadata": {},
     "output_type": "execute_result"
    }
   ],
   "source": [
    "w.sum()"
   ]
  },
  {
   "cell_type": "markdown",
   "id": "e27183af",
   "metadata": {},
   "source": [
    "## 8"
   ]
  },
  {
   "cell_type": "markdown",
   "id": "bced1e2c",
   "metadata": {},
   "source": [
    "in context to hart svm      \n",
    "find the optimal  $ \\alpha * \\ $     \n",
    "by solving dual optimization problem."
   ]
  },
  {
   "cell_type": "markdown",
   "id": "33434301",
   "metadata": {},
   "source": [
    "| Feature             | scipy.optimize.minimize                                      | scipy.optimize.Bounds                  |\n",
    "|---------------------|-------------------------------------------------------------|----------------------------------------|\n",
    "| Purpose             | Minimize a function, possibly with constraints              | Specify lower and upper bounds         |\n",
    "| Usage               | Function optimization and minimization tasks                | Defines permissible variable ranges    |\n",
    "| Arguments           | Function, initial guess, method, constraints, bounds        | Lower bounds (lb), upper bounds (ub)   |\n",
    "| Returns/Effect      | Solution object with details about minimum and process      | Used as bounds argument for optimization|\n",
    "| Typical Formulation | min_x f(x) (possibly subject to constraints)                | lb ≤ x ≤ ub                            |\n",
    "| Algorithms Supported| Several, e.g., 'BFGS', 'L-BFGS-B', 'SLSQP', etc.            | Works with methods supporting bounds   |\n",
    "| Example             | minimize(f, x0, bounds=Bounds(lb, ub))                     | Bounds([0, 1], [2, 3])                 |\n",
    "| Documentation       | SciPy Minimize documentation                                | SciPy Bounds documentation             |"
   ]
  },
  {
   "cell_type": "code",
   "execution_count": 124,
   "id": "3c853e74",
   "metadata": {},
   "outputs": [],
   "source": [
    "from scipy.optimize import minimize\n",
    "from scipy.optimize import Bounds"
   ]
  },
  {
   "cell_type": "code",
   "execution_count": 125,
   "id": "c81346d7",
   "metadata": {},
   "outputs": [
    {
     "data": {
      "text/plain": [
       "array([[-1,  0,  0,  0,  0,  0,  0,  0],\n",
       "       [ 0, -1,  0,  0,  0,  0,  0,  0],\n",
       "       [ 0,  0, -1,  0,  0,  0,  0,  0],\n",
       "       [ 0,  0,  0, -1,  0,  0,  0,  0],\n",
       "       [ 0,  0,  0,  0,  1,  0,  0,  0],\n",
       "       [ 0,  0,  0,  0,  0,  1,  0,  0],\n",
       "       [ 0,  0,  0,  0,  0,  0,  1,  0],\n",
       "       [ 0,  0,  0,  0,  0,  0,  0,  1]])"
      ]
     },
     "execution_count": 125,
     "metadata": {},
     "output_type": "execute_result"
    }
   ],
   "source": [
    "Y = np.diag(y)\n",
    "Y"
   ]
  },
  {
   "cell_type": "markdown",
   "id": "0054ee7b",
   "metadata": {},
   "source": [
    "| Line / Code                     | What It Does                                                                                   |\n",
    "|----------------------------------|-----------------------------------------------------------------------------------------------|\n",
    "| from scipy.optimize import ...   | Imports optimization tools needed for the task                                                |\n",
    "| Y = np.diag(y)                  | Turns the y vector into a diagonal matrix                                                     |\n",
    "| def f(alpha): ...               | Defines the objective function to minimize (often for SVM duals or quadratic programs)        |\n",
    "| res = minimize(...)             | Finds the values of alpha that minimize f, with each alpha_i >= 0 (no upper limit)            |\n",
    "| alpha_star = res.x              | Extracts the optimal alpha values from the result                                             |\n",
    "| round(1/alpha_star.sum())       | Takes the sum of all alpha values, inverts it, and rounds the result to the nearest integer   |"
   ]
  },
  {
   "cell_type": "code",
   "execution_count": 126,
   "id": "8fa32900",
   "metadata": {},
   "outputs": [
    {
     "data": {
      "text/plain": [
       "array([0.05978259, 0.04347822, 0.07608695, 0.        , 0.05978259,\n",
       "       0.01086946, 0.        , 0.        ])"
      ]
     },
     "execution_count": 126,
     "metadata": {},
     "output_type": "execute_result"
    }
   ],
   "source": [
    "def f(alpha):\n",
    "    return (\n",
    "        0.5 * alpha @ Y.T @ X.T @ X @ Y @ alpha\n",
    "        - alpha.sum())\n",
    "res = minimize(\n",
    "    f , x0 = np.zeros(n), bounds = Bounds(0 , np.inf)\n",
    ")\n",
    "alpha_star = res.x\n",
    "alpha_star"
   ]
  },
  {
   "cell_type": "code",
   "execution_count": 127,
   "id": "25960ece",
   "metadata": {},
   "outputs": [
    {
     "data": {
      "text/plain": [
       "4"
      ]
     },
     "execution_count": 127,
     "metadata": {},
     "output_type": "execute_result"
    }
   ],
   "source": [
    "ans = round(1 / alpha_star.sum())\n",
    "ans"
   ]
  },
  {
   "cell_type": "markdown",
   "id": "daf2715f",
   "metadata": {},
   "source": [
    "## 9 "
   ]
  },
  {
   "cell_type": "code",
   "execution_count": 128,
   "id": "65983162",
   "metadata": {},
   "outputs": [
    {
     "data": {
      "text/plain": [
       "-2"
      ]
     },
     "execution_count": 128,
     "metadata": {},
     "output_type": "execute_result"
    }
   ],
   "source": [
    "w_star = X @ Y @ alpha_star\n",
    "round(1 /w_star.sum())"
   ]
  },
  {
   "cell_type": "markdown",
   "id": "f5ce012b",
   "metadata": {},
   "source": [
    "## 10 \n",
    "find no of support vectore"
   ]
  },
  {
   "cell_type": "code",
   "execution_count": 129,
   "id": "ad5fffb5",
   "metadata": {},
   "outputs": [
    {
     "data": {
      "text/plain": [
       "5"
      ]
     },
     "execution_count": 129,
     "metadata": {},
     "output_type": "execute_result"
    }
   ],
   "source": [
    "(alpha_star > 0).sum()"
   ]
  },
  {
   "cell_type": "markdown",
   "id": "41fdc307",
   "metadata": {},
   "source": [
    "## common quesiton q11 and q12"
   ]
  },
  {
   "cell_type": "markdown",
   "id": "264475b5",
   "metadata": {},
   "source": [
    "### 11\n",
    "consider a data matrix X . mean center it and perform linear pca."
   ]
  },
  {
   "cell_type": "code",
   "execution_count": 130,
   "id": "a6277c42",
   "metadata": {},
   "outputs": [],
   "source": [
    "# DATA CELL\n",
    "# DO NOT EDIT THIS\n",
    "X = np.array([\n",
    "    [7, 5, -6, -11, 14.4, -2.8],\n",
    "    [10.5, 7.5, -9, -16.5, 21.6, -4.2],\n",
    "    [21, 15, -18, -33, 43.2, -8.4]\n",
    "]).astype(np.float64)"
   ]
  },
  {
   "cell_type": "code",
   "execution_count": 131,
   "id": "e3091065",
   "metadata": {},
   "outputs": [
    {
     "name": "stdout",
     "output_type": "stream",
     "text": [
      "[1.1  1.65 3.3 ]\n"
     ]
    },
    {
     "data": {
      "text/plain": [
       "array([[  5.9 ,   3.9 ,  -7.1 , -12.1 ,  13.3 ,  -3.9 ],\n",
       "       [  8.85,   5.85, -10.65, -18.15,  19.95,  -5.85],\n",
       "       [ 17.7 ,  11.7 , -21.3 , -36.3 ,  39.9 , -11.7 ]])"
      ]
     },
     "execution_count": 131,
     "metadata": {},
     "output_type": "execute_result"
    }
   ],
   "source": [
    "# center\n",
    "def center(X):\n",
    "    d , n = X.shape\n",
    "    mu = X.mean(axis = 1)\n",
    "    # along columns of each row\n",
    "    print(mu)\n",
    "    X -= mu.reshape(d , 1)\n",
    "center(X)\n",
    "X"
   ]
  },
  {
   "cell_type": "code",
   "execution_count": null,
   "id": "0b286b33",
   "metadata": {},
   "outputs": [],
   "source": [
    "# perform linear pca"
   ]
  }
 ],
 "metadata": {
  "kernelspec": {
   "display_name": "Python 3",
   "language": "python",
   "name": "python3"
  },
  "language_info": {
   "codemirror_mode": {
    "name": "ipython",
    "version": 3
   },
   "file_extension": ".py",
   "mimetype": "text/x-python",
   "name": "python",
   "nbconvert_exporter": "python",
   "pygments_lexer": "ipython3",
   "version": "3.11.2"
  }
 },
 "nbformat": 4,
 "nbformat_minor": 5
}
