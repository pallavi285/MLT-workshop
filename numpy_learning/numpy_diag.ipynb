{
 "cells": [
  {
   "cell_type": "markdown",
   "id": "fd969dd1",
   "metadata": {},
   "source": [
    "# numpy.diag"
   ]
  },
  {
   "cell_type": "markdown",
   "id": "60e628fc",
   "metadata": {},
   "source": [
    "## numpy.diag(v, k=0)"
   ]
  },
  {
   "cell_type": "markdown",
   "id": "d7ce7fdf",
   "metadata": {},
   "source": [
    "Parameters:   \n",
    "v:array_like\n",
    "If v is a 2-D array, return a copy of its k-th diagonal. If v is a 1-D array, return a 2-D array with v on the k-th diagonal.\n",
    "\n",
    "k:int, optional\n",
    "Diagonal in question. The default is 0. Use k>0 for diagonals above the main diagonal, and k<0 for diagonals below the main diagonal."
   ]
  },
  {
   "cell_type": "code",
   "execution_count": 4,
   "id": "6604589a",
   "metadata": {},
   "outputs": [
    {
     "data": {
      "text/plain": [
       "array([[0, 1, 2],\n",
       "       [3, 4, 5],\n",
       "       [6, 7, 8]])"
      ]
     },
     "execution_count": 4,
     "metadata": {},
     "output_type": "execute_result"
    }
   ],
   "source": [
    "import numpy as np\n",
    "x = np.arange(9).reshape((3,3))\n",
    "x"
   ]
  },
  {
   "cell_type": "code",
   "execution_count": null,
   "id": "97aece2e",
   "metadata": {},
   "outputs": [
    {
     "data": {
      "text/plain": [
       "array([0, 4, 8])"
      ]
     },
     "execution_count": 9,
     "metadata": {},
     "output_type": "execute_result"
    }
   ],
   "source": [
    "diagonal_element = np.diag(x)"
   ]
  },
  {
   "cell_type": "code",
   "execution_count": 11,
   "id": "a9baf981",
   "metadata": {},
   "outputs": [
    {
     "name": "stdout",
     "output_type": "stream",
     "text": [
      "[1 5]\n",
      "[3 7]\n"
     ]
    }
   ],
   "source": [
    "above_diagonal_element = np.diag(x , k=1)\n",
    "below_diagonal_element = np.diag(x , k=-1)\n",
    "print(above_diagonal_element)\n",
    "print(below_diagonal_element )"
   ]
  }
 ],
 "metadata": {
  "kernelspec": {
   "display_name": "Python 3",
   "language": "python",
   "name": "python3"
  },
  "language_info": {
   "codemirror_mode": {
    "name": "ipython",
    "version": 3
   },
   "file_extension": ".py",
   "mimetype": "text/x-python",
   "name": "python",
   "nbconvert_exporter": "python",
   "pygments_lexer": "ipython3",
   "version": "3.11.2"
  }
 },
 "nbformat": 4,
 "nbformat_minor": 5
}
