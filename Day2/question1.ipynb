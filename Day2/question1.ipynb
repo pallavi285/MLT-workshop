{
 "cells": [
  {
   "cell_type": "markdown",
   "id": "00e37858",
   "metadata": {},
   "source": [
    "# PCA question"
   ]
  },
  {
   "cell_type": "code",
   "execution_count": 43,
   "id": "b9629b79",
   "metadata": {},
   "outputs": [],
   "source": [
    "import numpy as np\n",
    "import matplotlib.pyplot as plt"
   ]
  },
  {
   "cell_type": "markdown",
   "id": "042f9537",
   "metadata": {},
   "source": [
    "## Know the data"
   ]
  },
  {
   "cell_type": "code",
   "execution_count": 44,
   "id": "1968eaaa",
   "metadata": {},
   "outputs": [],
   "source": [
    "# DATA CELL\n",
    "# DO NOT EDIT THIS\n",
    "X = np.array([\n",
    "    [7, 5, -6, -11, 14.4, -2.8],\n",
    "    [10.5, 7.5, -9, -16.5, 21.6, -4.2],\n",
    "    [21, 15, -18, -33, 43.2, -8.4]\n",
    "]).astype(np.float64)"
   ]
  },
  {
   "cell_type": "code",
   "execution_count": 46,
   "id": "d120468f",
   "metadata": {},
   "outputs": [
    {
     "name": "stdout",
     "output_type": "stream",
     "text": [
      "3\n",
      "6\n"
     ]
    }
   ],
   "source": [
    "d , n = X.shape\n",
    "print(d) # no of feature\n",
    "print(n) # no of datapoints"
   ]
  },
  {
   "cell_type": "markdown",
   "id": "f78cf867",
   "metadata": {},
   "source": [
    "## Mean center the data"
   ]
  },
  {
   "cell_type": "code",
   "execution_count": 47,
   "id": "6b993ed7",
   "metadata": {},
   "outputs": [
    {
     "data": {
      "text/plain": [
       "2.016666666666667"
      ]
     },
     "execution_count": 47,
     "metadata": {},
     "output_type": "execute_result"
    }
   ],
   "source": [
    "X_mean = X.mean()\n",
    "X_mean"
   ]
  },
  {
   "cell_type": "code",
   "execution_count": 48,
   "id": "41854247",
   "metadata": {},
   "outputs": [
    {
     "data": {
      "text/plain": [
       "array([[  7. ,   5. ,  -6. , -11. ,  14.4,  -2.8],\n",
       "       [ 10.5,   7.5,  -9. , -16.5,  21.6,  -4.2],\n",
       "       [ 21. ,  15. , -18. , -33. ,  43.2,  -8.4]])"
      ]
     },
     "execution_count": 48,
     "metadata": {},
     "output_type": "execute_result"
    }
   ],
   "source": [
    "X"
   ]
  },
  {
   "cell_type": "code",
   "execution_count": 49,
   "id": "6c38e640",
   "metadata": {},
   "outputs": [
    {
     "data": {
      "text/plain": [
       "array([[  4.98333333,   2.98333333,  -8.01666667, -13.01666667,\n",
       "         12.38333333,  -4.81666667],\n",
       "       [  8.48333333,   5.48333333, -11.01666667, -18.51666667,\n",
       "         19.58333333,  -6.21666667],\n",
       "       [ 18.98333333,  12.98333333, -20.01666667, -35.01666667,\n",
       "         41.18333333, -10.41666667]])"
      ]
     },
     "execution_count": 49,
     "metadata": {},
     "output_type": "execute_result"
    }
   ],
   "source": [
    "X = X - X_mean\n",
    "X"
   ]
  },
  {
   "cell_type": "code",
   "execution_count": 50,
   "id": "f78a026d",
   "metadata": {},
   "outputs": [
    {
     "data": {
      "text/plain": [
       "array([[ 73.99694444, 110.07111111, 218.29361111],\n",
       "       [110.07111111, 164.73694444, 328.73444444],\n",
       "       [218.29361111, 328.73444444, 660.05694444]])"
      ]
     },
     "execution_count": 50,
     "metadata": {},
     "output_type": "execute_result"
    }
   ],
   "source": [
    "cov_matrix = X @ X.T /n\n",
    "cov_matrix"
   ]
  },
  {
   "cell_type": "code",
   "execution_count": 51,
   "id": "2ded9e24",
   "metadata": {},
   "outputs": [
    {
     "name": "stdout",
     "output_type": "stream",
     "text": [
      "eigval=array([-1.00930955e-14,  2.15685183e+00,  8.96633982e+02])\n",
      "eigvec=array([[ 0.58834841, -0.756767  , -0.28486815],\n",
      "       [-0.78446454, -0.44874446, -0.42806985],\n",
      "       [ 0.19611614,  0.47532317, -0.85767496]])\n"
     ]
    }
   ],
   "source": [
    "eigval , eigvec = np.linalg.eigh(cov_matrix)\n",
    "print(f\"{eigval=}\")\n",
    "print(f\"{eigvec=}\")"
   ]
  },
  {
   "cell_type": "code",
   "execution_count": 55,
   "id": "cc8fbeae",
   "metadata": {},
   "outputs": [
    {
     "name": "stdout",
     "output_type": "stream",
     "text": [
      "var=array([ 8.96633982e+02,  2.15685183e+00, -1.00930955e-14])\n",
      "PC=array([[-0.28486815, -0.756767  ,  0.58834841],\n",
      "       [-0.42806985, -0.44874446, -0.78446454],\n",
      "       [-0.85767496,  0.47532317,  0.19611614]])\n"
     ]
    }
   ],
   "source": [
    "var = np.flip(eigval)\n",
    "print(f\"{var=}\")\n",
    "PC = np.flip(eigvec , axis = 1)\n",
    "print(f\"{PC=}\")"
   ]
  },
  {
   "cell_type": "code",
   "execution_count": null,
   "id": "6bd3efac",
   "metadata": {},
   "outputs": [
    {
     "data": {
      "text/plain": [
       "11"
      ]
     },
     "execution_count": 60,
     "metadata": {},
     "output_type": "execute_result"
    }
   ],
   "source": [
    "round(np.abs(PC[:,0].sum()*7)) # round absolute value of 7a \n",
    "# where a is the "
   ]
  }
 ],
 "metadata": {
  "kernelspec": {
   "display_name": "Python 3",
   "language": "python",
   "name": "python3"
  },
  "language_info": {
   "codemirror_mode": {
    "name": "ipython",
    "version": 3
   },
   "file_extension": ".py",
   "mimetype": "text/x-python",
   "name": "python",
   "nbconvert_exporter": "python",
   "pygments_lexer": "ipython3",
   "version": "3.11.2"
  }
 },
 "nbformat": 4,
 "nbformat_minor": 5
}
