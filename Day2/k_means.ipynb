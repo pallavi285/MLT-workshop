{
 "cells": [
  {
   "cell_type": "code",
   "execution_count": 13,
   "id": "b253d4df",
   "metadata": {},
   "outputs": [],
   "source": [
    "import numpy as np\n",
    "import matplotlib.pyplot as plt\n",
    "import pandas as pd"
   ]
  },
  {
   "cell_type": "code",
   "execution_count": 14,
   "id": "8a21c9f2",
   "metadata": {},
   "outputs": [
    {
     "data": {
      "text/plain": [
       "array([[-3,  3],\n",
       "       [ 3, -3],\n",
       "       [ 3,  3]])"
      ]
     },
     "execution_count": 14,
     "metadata": {},
     "output_type": "execute_result"
    }
   ],
   "source": [
    "rng = np.random.default_rng(seed = 42)\n",
    "mus = np.array([[-3,3],\n",
    "                [3,-3],\n",
    "                [3,3]])\n",
    "mus"
   ]
  },
  {
   "cell_type": "code",
   "execution_count": 15,
   "id": "aa541ce0",
   "metadata": {},
   "outputs": [
    {
     "data": {
      "text/plain": [
       "array([[1., 0.],\n",
       "       [0., 1.]])"
      ]
     },
     "execution_count": 15,
     "metadata": {},
     "output_type": "execute_result"
    }
   ],
   "source": [
    "cov = np.eye(2)\n",
    "cov"
   ]
  },
  {
   "cell_type": "code",
   "execution_count": 16,
   "id": "0a11c07c",
   "metadata": {},
   "outputs": [],
   "source": [
    "n = 60\n",
    "xvals = [rng.multivariate_normal(mus[i] , cov , size = n//3) for i in range(3)]"
   ]
  },
  {
   "cell_type": "code",
   "execution_count": 17,
   "id": "51f6bb2b",
   "metadata": {},
   "outputs": [
    {
     "name": "stdout",
     "output_type": "stream",
     "text": [
      "3\n",
      "[array([[-2.69528292,  1.96001589],\n",
      "       [-2.2495488 ,  3.94056472],\n",
      "       [-4.95103519,  1.69782049],\n",
      "       [-2.8721596 ,  2.68375741],\n",
      "       [-3.01680116,  2.14695607],\n",
      "       [-2.12060203,  3.77779194],\n",
      "       [-2.9339693 ,  4.12724121],\n",
      "       [-2.53249066,  2.14070754],\n",
      "       [-2.63124922,  2.0411174 ],\n",
      "       [-2.1215497 ,  2.95007409],\n",
      "       [-3.18486236,  2.31907046],\n",
      "       [-1.77745866,  2.84547052],\n",
      "       [-3.42832782,  2.64786645],\n",
      "       [-2.46769081,  3.36544406],\n",
      "       [-2.58726739,  3.430821  ],\n",
      "       [-0.8583524 ,  2.59358498],\n",
      "       [-3.51224273,  2.18622727],\n",
      "       [-2.38402058,  4.12897229],\n",
      "       [-3.11394746,  2.15984352],\n",
      "       [-3.82448122,  3.65059279]]), array([[ 3.74325417, -2.45684573],\n",
      "       [ 2.33449029, -2.76783868],\n",
      "       [ 3.11668581, -2.7813114 ],\n",
      "       [ 3.87142878, -2.77640445],\n",
      "       [ 3.67891356, -2.93242093],\n",
      "       [ 3.2891194 , -2.36871177],\n",
      "       [ 1.54284418, -3.31967122],\n",
      "       [ 2.52962735, -3.63887785],\n",
      "       [ 2.72485775, -1.50505869],\n",
      "       [ 2.13416888, -2.03172165],\n",
      "       [ 1.31713023, -3.33488503],\n",
      "       [ 3.16275307, -2.41377767],\n",
      "       [ 3.71122658, -2.20665276],\n",
      "       [ 2.65127493, -3.46235179],\n",
      "       [ 3.85797588, -3.19130432],\n",
      "       [ 1.72431368, -4.13328721],\n",
      "       [ 2.08054771, -2.50283926],\n",
      "       [ 3.14242574, -2.30951465],\n",
      "       [ 2.57274735, -2.84146031],\n",
      "       [ 3.62559039, -3.30934654]]), array([[3.45677524, 2.33807406],\n",
      "       [2.63694615, 2.61826211],\n",
      "       [1.80416035, 3.48697248],\n",
      "       [2.53059766, 3.01249412],\n",
      "       [3.48074666, 3.44653118],\n",
      "       [3.66538511, 2.90151452],\n",
      "       [2.57670169, 2.92028179],\n",
      "       [1.31266557, 1.55288753],\n",
      "       [1.67730039, 2.00275317],\n",
      "       [3.39977423, 2.09452094],\n",
      "       [2.62183745, 4.2992283 ],\n",
      "       [2.64373603, 3.73751557],\n",
      "       [2.06638232, 2.79456244],\n",
      "       [2.04997795, 2.66096692],\n",
      "       [3.84030814, 1.27267958],\n",
      "       [3.43442364, 3.2377356 ],\n",
      "       [2.40585004, 1.55394215],\n",
      "       [3.07212951, 2.47050729],\n",
      "       [3.23267621, 3.02185215],\n",
      "       [4.60177889, 2.76064437]])]\n"
     ]
    }
   ],
   "source": [
    "print(len(xvals))\n",
    "print(xvals)"
   ]
  },
  {
   "cell_type": "code",
   "execution_count": 18,
   "id": "8eac337e",
   "metadata": {},
   "outputs": [
    {
     "data": {
      "text/plain": [
       "(2, 60)"
      ]
     },
     "execution_count": 18,
     "metadata": {},
     "output_type": "execute_result"
    }
   ],
   "source": [
    "X = np.concatenate(xvals , axis = 0).T\n",
    "X.shape"
   ]
  },
  {
   "cell_type": "markdown",
   "id": "d0c9545d",
   "metadata": {},
   "source": [
    "## dataset"
   ]
  },
  {
   "cell_type": "code",
   "execution_count": 22,
   "id": "90e39381",
   "metadata": {},
   "outputs": [
    {
     "data": {
      "text/html": [
       "<div>\n",
       "<style scoped>\n",
       "    .dataframe tbody tr th:only-of-type {\n",
       "        vertical-align: middle;\n",
       "    }\n",
       "\n",
       "    .dataframe tbody tr th {\n",
       "        vertical-align: top;\n",
       "    }\n",
       "\n",
       "    .dataframe thead th {\n",
       "        text-align: right;\n",
       "    }\n",
       "</style>\n",
       "<table border=\"1\" class=\"dataframe\">\n",
       "  <thead>\n",
       "    <tr style=\"text-align: right;\">\n",
       "      <th></th>\n",
       "      <th>0</th>\n",
       "      <th>1</th>\n",
       "      <th>2</th>\n",
       "      <th>3</th>\n",
       "      <th>4</th>\n",
       "      <th>5</th>\n",
       "      <th>6</th>\n",
       "      <th>7</th>\n",
       "      <th>8</th>\n",
       "      <th>9</th>\n",
       "      <th>...</th>\n",
       "      <th>50</th>\n",
       "      <th>51</th>\n",
       "      <th>52</th>\n",
       "      <th>53</th>\n",
       "      <th>54</th>\n",
       "      <th>55</th>\n",
       "      <th>56</th>\n",
       "      <th>57</th>\n",
       "      <th>58</th>\n",
       "      <th>59</th>\n",
       "    </tr>\n",
       "  </thead>\n",
       "  <tbody>\n",
       "    <tr>\n",
       "      <th>0</th>\n",
       "      <td>-2.695283</td>\n",
       "      <td>-2.249549</td>\n",
       "      <td>-4.951035</td>\n",
       "      <td>-2.872160</td>\n",
       "      <td>-3.016801</td>\n",
       "      <td>-2.120602</td>\n",
       "      <td>-2.933969</td>\n",
       "      <td>-2.532491</td>\n",
       "      <td>-2.631249</td>\n",
       "      <td>-2.121550</td>\n",
       "      <td>...</td>\n",
       "      <td>2.621837</td>\n",
       "      <td>2.643736</td>\n",
       "      <td>2.066382</td>\n",
       "      <td>2.049978</td>\n",
       "      <td>3.840308</td>\n",
       "      <td>3.434424</td>\n",
       "      <td>2.405850</td>\n",
       "      <td>3.072130</td>\n",
       "      <td>3.232676</td>\n",
       "      <td>4.601779</td>\n",
       "    </tr>\n",
       "    <tr>\n",
       "      <th>1</th>\n",
       "      <td>1.960016</td>\n",
       "      <td>3.940565</td>\n",
       "      <td>1.697820</td>\n",
       "      <td>2.683757</td>\n",
       "      <td>2.146956</td>\n",
       "      <td>3.777792</td>\n",
       "      <td>4.127241</td>\n",
       "      <td>2.140708</td>\n",
       "      <td>2.041117</td>\n",
       "      <td>2.950074</td>\n",
       "      <td>...</td>\n",
       "      <td>4.299228</td>\n",
       "      <td>3.737516</td>\n",
       "      <td>2.794562</td>\n",
       "      <td>2.660967</td>\n",
       "      <td>1.272680</td>\n",
       "      <td>3.237736</td>\n",
       "      <td>1.553942</td>\n",
       "      <td>2.470507</td>\n",
       "      <td>3.021852</td>\n",
       "      <td>2.760644</td>\n",
       "    </tr>\n",
       "  </tbody>\n",
       "</table>\n",
       "<p>2 rows × 60 columns</p>\n",
       "</div>"
      ],
      "text/plain": [
       "         0         1         2         3         4         5         6   \\\n",
       "0 -2.695283 -2.249549 -4.951035 -2.872160 -3.016801 -2.120602 -2.933969   \n",
       "1  1.960016  3.940565  1.697820  2.683757  2.146956  3.777792  4.127241   \n",
       "\n",
       "         7         8         9   ...        50        51        52        53  \\\n",
       "0 -2.532491 -2.631249 -2.121550  ...  2.621837  2.643736  2.066382  2.049978   \n",
       "1  2.140708  2.041117  2.950074  ...  4.299228  3.737516  2.794562  2.660967   \n",
       "\n",
       "         54        55        56        57        58        59  \n",
       "0  3.840308  3.434424  2.405850  3.072130  3.232676  4.601779  \n",
       "1  1.272680  3.237736  1.553942  2.470507  3.021852  2.760644  \n",
       "\n",
       "[2 rows x 60 columns]"
      ]
     },
     "execution_count": 22,
     "metadata": {},
     "output_type": "execute_result"
    }
   ],
   "source": [
    "df = pd.DataFrame(X)\n",
    "df"
   ]
  },
  {
   "cell_type": "markdown",
   "id": "3e5c0bce",
   "metadata": {},
   "source": [
    "## Visualize the dataset"
   ]
  },
  {
   "cell_type": "code",
   "execution_count": 26,
   "id": "ff156b4d",
   "metadata": {},
   "outputs": [
    {
     "data": {
      "text/plain": [
       "(-5.428675892652574, 5.079419595319653, -4.5549129895929585, 4.720854073375543)"
      ]
     },
     "execution_count": 26,
     "metadata": {},
     "output_type": "execute_result"
    },
    {
     "data": {
      "image/png": "[encoded data removed]",
      "text/plain": [
       "<Figure size 640x480 with 1 Axes>"
      ]
     },
     "metadata": {},
     "output_type": "display_data"
    }
   ],
   "source": [
    "plt.scatter(X[0 , :] , X[1 , :])\n",
    "plt.axis('equal')"
   ]
  },
  {
   "cell_type": "markdown",
   "id": "f0d3c209",
   "metadata": {},
   "source": [
    "## step 1 initailization"
   ]
  },
  {
   "cell_type": "code",
   "execution_count": 27,
   "id": "e89b15af",
   "metadata": {},
   "outputs": [],
   "source": [
    "k = 3\n",
    "d , n  = X.shape\n",
    "ind = rng.choice(np.arange(n) , size = k , replace = False) \n",
    "#genrate k numbers without repitation"
   ]
  },
  {
   "cell_type": "code",
   "execution_count": 28,
   "id": "7bc62326",
   "metadata": {},
   "outputs": [
    {
     "data": {
      "text/plain": [
       "array([36, 45,  4])"
      ]
     },
     "execution_count": 28,
     "metadata": {},
     "output_type": "execute_result"
    }
   ],
   "source": [
    "ind"
   ]
  },
  {
   "cell_type": "code",
   "execution_count": null,
   "id": "85c033c9",
   "metadata": {},
   "outputs": [
    {
     "data": {
      "text/plain": [
       "array([[ 2.08054771,  3.66538511, -3.01680116],\n",
       "       [-2.50283926,  2.90151452,  2.14695607]])"
      ]
     },
     "execution_count": 30,
     "metadata": {},
     "output_type": "execute_result"
    }
   ],
   "source": [
    "mus = X[: , ind] # means or centroid\n",
    "mus"
   ]
  },
  {
   "cell_type": "code",
   "execution_count": 31,
   "id": "eba3351d",
   "metadata": {},
   "outputs": [
    {
     "data": {
      "text/plain": [
       "(2, 3)"
      ]
     },
     "execution_count": 31,
     "metadata": {},
     "output_type": "execute_result"
    }
   ],
   "source": [
    "mus.shape"
   ]
  },
  {
   "cell_type": "markdown",
   "id": "1fcf8305",
   "metadata": {},
   "source": [
    "## step2 cluster assignment"
   ]
  },
  {
   "cell_type": "code",
   "execution_count": 34,
   "id": "f431d169",
   "metadata": {},
   "outputs": [],
   "source": [
    "z = np.zeros(n)\n",
    "for i in range(n):\n",
    "    dist = np.linalg.norm(mus -X[:,i].reshape(d,1))\n",
    "    axis = 0\n",
    "z[i] =  np.argmin(dist)"
   ]
  }
 ],
 "metadata": {
  "kernelspec": {
   "display_name": "Python 3",
   "language": "python",
   "name": "python3"
  },
  "language_info": {
   "codemirror_mode": {
    "name": "ipython",
    "version": 3
   },
   "file_extension": ".py",
   "mimetype": "text/x-python",
   "name": "python",
   "nbconvert_exporter": "python",
   "pygments_lexer": "ipython3",
   "version": "3.11.2"
  }
 },
 "nbformat": 4,
 "nbformat_minor": 5
}
