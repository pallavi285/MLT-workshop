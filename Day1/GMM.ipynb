{
 "cells": [
  {
   "cell_type": "code",
   "execution_count": 2,
   "id": "b06ddb31",
   "metadata": {},
   "outputs": [],
   "source": [
    "import numpy as np\n",
    "import matplotlib.pyplot as plt"
   ]
  },
  {
   "cell_type": "markdown",
   "id": "df9c3dd3",
   "metadata": {},
   "source": [
    "# GMM\n",
    "-  Inroduction to Gaussian Misture Models (GMM) for clustering.\n",
    "-  Fitting GMM using scikit-learn(**GuassianMixture** model).\n",
    "-  Parameter estimation (means , covariances) and visualization of culster."
   ]
  },
  {
   "cell_type": "markdown",
   "id": "ffc512f3",
   "metadata": {},
   "source": [
    "Sets the variable n to 1,000,000.\n",
    "\n",
    "This is the number of samples or values you want to generate."
   ]
  },
  {
   "cell_type": "markdown",
   "id": "786e4c57",
   "metadata": {},
   "source": [
    "Creates a random number generator (RNG) object using NumPy’s default_rng() function.\n",
    "\n",
    "rng is now your RNG instance, which provides better randomness and reproducibility than the older np.random routines.\n",
    "\n",
    "This is useful for generating random numbers in a modern, consistent way."
   ]
  },
  {
   "cell_type": "markdown",
   "id": "b793fed2",
   "metadata": {},
   "source": [
    "Creates an array of length n (one million entries) named comp.\n",
    "\n",
    "Each entry in comp is randomly selected from the list [0, 1, 2].\n",
    "\n",
    "The p=[0.2, 0.3, 0.5] argument assigns the probability:\n",
    "\n",
    "- 0 will be chosen 20% of the time,\n",
    "\n",
    "- 1 will be chosen 30% of the time,\n",
    "\n",
    "- 2 will be chosen 50% of the time.\n",
    "\n",
    "Effectively, you simulate a million random events where each event results in a 0, 1, or 2, with the given probability distribution."
   ]
  },
  {
   "cell_type": "code",
   "execution_count": 3,
   "id": "ce1fb5a0",
   "metadata": {},
   "outputs": [],
   "source": [
    "n = 1000000\n",
    "rng = np.random.default_rng() \n",
    "comp = rng.choice([0,1,2],p = [0.2,0.3,0.5] , size = n)"
   ]
  },
  {
   "cell_type": "code",
   "execution_count": 4,
   "id": "15e82285",
   "metadata": {},
   "outputs": [
    {
     "data": {
      "text/plain": [
       "(1000000,)"
      ]
     },
     "execution_count": 4,
     "metadata": {},
     "output_type": "execute_result"
    }
   ],
   "source": [
    "mu = [-10 , 0 , 10]\n",
    "x=np.zeros(n)\n",
    "for i , c in enumerate(comp):\n",
    "    x[i] = rng.normal(mu[c],1)\n",
    "x.shape\n",
    "    "
   ]
  },
  {
   "cell_type": "code",
   "execution_count": 5,
   "id": "d33f5a71",
   "metadata": {},
   "outputs": [
    {
     "data": {
      "text/plain": [
       "array([  9.70406155,   0.01139185,  -0.13649233, ..., -10.15296937,\n",
       "         0.86164278, -10.11442045])"
      ]
     },
     "execution_count": 5,
     "metadata": {},
     "output_type": "execute_result"
    }
   ],
   "source": [
    "x"
   ]
  },
  {
   "cell_type": "code",
   "execution_count": 6,
   "id": "36fa0a93",
   "metadata": {},
   "outputs": [
    {
     "data": {
      "image/png": "[encoded data removed]",
      "text/plain": [
       "<Figure size 640x480 with 1 Axes>"
      ]
     },
     "metadata": {},
     "output_type": "display_data"
    }
   ],
   "source": [
    "plt.hist(x,bins=1000 , edgecolor='black')\n",
    "plt.show()"
   ]
  }
 ],
 "metadata": {
  "kernelspec": {
   "display_name": "Python 3",
   "language": "python",
   "name": "python3"
  },
  "language_info": {
   "codemirror_mode": {
    "name": "ipython",
    "version": 3
   },
   "file_extension": ".py",
   "mimetype": "text/x-python",
   "name": "python",
   "nbconvert_exporter": "python",
   "pygments_lexer": "ipython3",
   "version": "3.11.2"
  }
 },
 "nbformat": 4,
 "nbformat_minor": 5
}
