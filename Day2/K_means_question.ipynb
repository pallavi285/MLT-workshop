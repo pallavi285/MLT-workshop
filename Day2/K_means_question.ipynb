{
 "cells": [
  {
   "cell_type": "code",
   "execution_count": 1,
   "id": "aa12aa8f",
   "metadata": {},
   "outputs": [],
   "source": [
    "import numpy as np\n",
    "import matplotlib.pyplot as plt"
   ]
  },
  {
   "cell_type": "markdown",
   "id": "b79261be",
   "metadata": {},
   "source": [
    "Implement K-means, get final centers and answer:\n"
   ]
  },
  {
   "cell_type": "code",
   "execution_count": 2,
   "id": "81d502ff",
   "metadata": {},
   "outputs": [],
   "source": [
    "# DATA CELL\n",
    "# DO NOT EDIT THIS CELL\n",
    "rng = np.random.default_rng(seed = 1009)\n",
    "n = rng.integers(24, 25)\n",
    "d = rng.integers(2, 3)\n",
    "cen = rng.integers(-10, 10, (3, d))\n",
    "cov = np.eye(d)\n",
    "X = np.zeros((d, n))\n",
    "for i in range(3):\n",
    "    X[:, n // 3 * i: n // 3 * (i + 1)] = rng.multivariate_normal(cen[i], cov, n // 3).T\n",
    "x_test = rng.integers(-2, 4, (d, ))\n",
    "c_1, c_2, c_3 = (cen[0] + rng.uniform(-2, 2, (d, )),\n",
    "                 cen[1] + rng.uniform(-2, 2, (d, )),\n",
    "                 cen[2] + rng.uniform(-2, 2, (d, )))"
   ]
  }
 ],
 "metadata": {
  "kernelspec": {
   "display_name": "Python 3",
   "language": "python",
   "name": "python3"
  },
  "language_info": {
   "codemirror_mode": {
    "name": "ipython",
    "version": 3
   },
   "file_extension": ".py",
   "mimetype": "text/x-python",
   "name": "python",
   "nbconvert_exporter": "python",
   "pygments_lexer": "ipython3",
   "version": "3.11.2"
  }
 },
 "nbformat": 4,
 "nbformat_minor": 5
}
