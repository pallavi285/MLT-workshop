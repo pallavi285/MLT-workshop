{
 "cells": [
  {
   "cell_type": "code",
   "execution_count": 1,
   "id": "8b8af01d",
   "metadata": {},
   "outputs": [],
   "source": [
    "import numpy as np"
   ]
  },
  {
   "cell_type": "code",
   "execution_count": 2,
   "id": "ff1b8ab3",
   "metadata": {},
   "outputs": [],
   "source": [
    "rng = np.random.default_rng(seed = 42)"
   ]
  },
  {
   "cell_type": "markdown",
   "id": "99b8fbf9",
   "metadata": {},
   "source": [
    "## normal distribution"
   ]
  },
  {
   "cell_type": "code",
   "execution_count": null,
   "id": "c7aeeac1",
   "metadata": {},
   "outputs": [],
   "source": [
    "data = rng.normal()"
   ]
  },
  {
   "cell_type": "markdown",
   "id": "f407d74b",
   "metadata": {},
   "source": [
    "## Multivarient"
   ]
  },
  {
   "cell_type": "code",
   "execution_count": null,
   "id": "111beb9c",
   "metadata": {},
   "outputs": [],
   "source": []
  }
 ],
 "metadata": {
  "kernelspec": {
   "display_name": "Python 3",
   "language": "python",
   "name": "python3"
  },
  "language_info": {
   "codemirror_mode": {
    "name": "ipython",
    "version": 3
   },
   "file_extension": ".py",
   "mimetype": "text/x-python",
   "name": "python",
   "nbconvert_exporter": "python",
   "pygments_lexer": "ipython3",
   "version": "3.11.2"
  }
 },
 "nbformat": 4,
 "nbformat_minor": 5
}
